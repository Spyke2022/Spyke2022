{
  "cells": [
    {
      "cell_type": "markdown",
      "metadata": {
        "id": "view-in-github",
        "colab_type": "text"
      },
      "source": [
        "<a href=\"https://colab.research.google.com/github/Spyke2022/Spyke2022/blob/main/C%C3%B3pia_de_Python_com_Dados_Atividade_Pr%C3%A9via_.ipynb\" target=\"_parent\"><img src=\"https://colab.research.google.com/assets/colab-badge.svg\" alt=\"Open In Colab\"/></a>"
      ]
    },
    {
      "cell_type": "code",
      "execution_count": null,
      "metadata": {
        "id": "1gMHoWHth6uN"
      },
      "outputs": [],
      "source": []
    },
    {
      "cell_type": "markdown",
      "metadata": {
        "id": "3kQSqPpAiVc1"
      },
      "source": [
        "## ***Atividade Prévia***\n",
        "\n",
        "*Aluno: Silas de Albuquerque Falcão*\n",
        "\n",
        "*Dados:*\n",
        "\n",
        "\n",
        " *temperature =[[30],[12],[14],[18],[25],[5],[15],[27]]*\n",
        "\n",
        "*coat = [False, True, True, True, False, True, True, False]*\n",
        "\n"
      ]
    },
    {
      "cell_type": "markdown",
      "metadata": {
        "id": "mLzB2VFqXz-0"
      },
      "source": []
    },
    {
      "cell_type": "markdown",
      "metadata": {
        "id": "CC23Cibnj7hQ"
      },
      "source": []
    },
    {
      "cell_type": "code",
      "execution_count": null,
      "metadata": {
        "id": "GyS8_SBxzhud"
      },
      "outputs": [],
      "source": [
        "import sklearn.linear_model"
      ]
    },
    {
      "cell_type": "code",
      "execution_count": null,
      "metadata": {
        "colab": {
          "base_uri": "https://localhost:8080/"
        },
        "id": "4bMugKMVGYFD",
        "outputId": "970897a1-b43d-4b21-86ce-20c9ceaf8836"
      },
      "outputs": [
        {
          "output_type": "execute_result",
          "data": {
            "text/plain": [
              "array([False,  True,  True, False,  True])"
            ]
          },
          "metadata": {},
          "execution_count": 18
        }
      ],
      "source": [
        "temperatura = [[30], [12], [14], [18], [25],  [5],  [15], [27]] #celsius\n",
        "vestir_casaco = [False, True, True, True, False, True, True, False]\n",
        "from sklearn.linear_model import LogisticRegression\n",
        "\n",
        "classificador = LogisticRegression()\n",
        "classificador.fit(temperatura,vestir_casaco)\n",
        "\n",
        "novas_temperaturas = [[35],[3],[17],[22],[0]]\n",
        "\n",
        "classificador.predict(novas_temperaturas)\n"
      ]
    },
    {
      "cell_type": "code",
      "source": [],
      "metadata": {
        "id": "8Nh6WF1YCIKA"
      },
      "execution_count": null,
      "outputs": []
    },
    {
      "cell_type": "code",
      "source": [
        "array = novas_temperaturas"
      ],
      "metadata": {
        "id": "BU8cDaHpAGkd"
      },
      "execution_count": null,
      "outputs": []
    },
    {
      "cell_type": "code",
      "source": [
        "if (array[True]):\n",
        "  print(\"Vá de Casaco\")\n",
        "elif (array[False]):\n",
        "  print(\"Não leve o casaco\")\n",
        "  pass"
      ],
      "metadata": {
        "colab": {
          "base_uri": "https://localhost:8080/"
        },
        "id": "INPAcWus_C5f",
        "outputId": "dcb93bb2-e20a-4514-dea1-994623949ee9"
      },
      "execution_count": null,
      "outputs": [
        {
          "output_type": "stream",
          "name": "stdout",
          "text": [
            "Vá de Casaco\n"
          ]
        }
      ]
    },
    {
      "cell_type": "code",
      "source": [],
      "metadata": {
        "id": "IHV2NQSx99TP"
      },
      "execution_count": null,
      "outputs": []
    }
  ],
  "metadata": {
    "colab": {
      "provenance": [],
      "include_colab_link": true
    },
    "kernelspec": {
      "display_name": "Python 3",
      "name": "python3"
    },
    "language_info": {
      "codemirror_mode": {
        "name": "ipython",
        "version": 3
      },
      "file_extension": ".py",
      "mimetype": "text/x-python",
      "name": "python",
      "nbconvert_exporter": "python",
      "pygments_lexer": "ipython3",
      "version": "3.9.6"
    }
  },
  "nbformat": 4,
  "nbformat_minor": 0
}