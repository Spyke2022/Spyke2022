{
 "nbformat": 4,
 "nbformat_minor": 0,
 "metadata": {
  "colab": {
   "provenance": [
    {
     "file_id": "1MCrCZt5pFZv3G8jXx8qUo9wgSxlHoNbe",
     "timestamp": 1705779733725
    },
    {
     "file_id": "1vrJ02gJ0VQIU-iz5fr5CxFw-vk_jhIeA",
     "timestamp": 1705779041075
    }
   ]
  },
  "kernelspec": {
   "name": "python3",
   "language": "python",
   "display_name": "Python 3 (ipykernel)"
  },
  "language_info": {
   "name": "python"
  }
 },
 "cells": [
  {
   "cell_type": "code",
   "execution_count": 6,
   "metadata": {
    "id": "m1kfT1_DHjsY",
    "executionInfo": {
     "status": "ok",
     "timestamp": 1705850620424,
     "user_tz": 180,
     "elapsed": 1898,
     "user": {
      "displayName": "Silas Falcão",
      "userId": "16882483878720005620"
     }
    },
    "ExecuteTime": {
     "end_time": "2024-01-22T01:07:43.841095Z",
     "start_time": "2024-01-22T01:07:43.795672Z"
    }
   },
   "outputs": [
    {
     "ename": "SyntaxError",
     "evalue": "invalid syntax (434001875.py, line 2)",
     "output_type": "error",
     "traceback": [
      "\u001B[0;36m  Cell \u001B[0;32mIn[6], line 2\u001B[0;36m\u001B[0m\n\u001B[0;31m    rotas_rodoviar pd.read_csv('rotas.csv')\u001B[0m\n\u001B[0m                   ^\u001B[0m\n\u001B[0;31mSyntaxError\u001B[0m\u001B[0;31m:\u001B[0m invalid syntax\n"
     ]
    }
   ],
   "source": [
    "import pandas as pd\n",
    "rotas_rodoviar pd.read_csv('rotas.csv')"
   ]
  },
  {
   "cell_type": "code",
   "source": [
    "rotas_rodoviarias"
   ],
   "metadata": {
    "id": "-fJnml2gN4T8",
    "executionInfo": {
     "status": "ok",
     "timestamp": 1705850620828,
     "user_tz": 180,
     "elapsed": 408,
     "user": {
      "displayName": "Silas Falcão",
      "userId": "16882483878720005620"
     }
    },
    "outputId": "2efec957-0972-4dd1-d368-5585e2fabfe7",
    "colab": {
     "base_uri": "https://localhost:8080/",
     "height": 444
    },
    "ExecuteTime": {
     "end_time": "2024-01-22T01:07:43.866289Z",
     "start_time": "2024-01-22T01:07:43.849129Z"
    }
   },
   "execution_count": 7,
   "outputs": [
    {
     "ename": "NameError",
     "evalue": "name 'rotas_rodoviarias' is not defined",
     "output_type": "error",
     "traceback": [
      "\u001B[0;31m---------------------------------------------------------------------------\u001B[0m",
      "\u001B[0;31mNameError\u001B[0m                                 Traceback (most recent call last)",
      "Cell \u001B[0;32mIn[7], line 1\u001B[0m\n\u001B[0;32m----> 1\u001B[0m \u001B[43mrotas_rodoviarias\u001B[49m\n",
      "\u001B[0;31mNameError\u001B[0m: name 'rotas_rodoviarias' is not defined"
     ]
    }
   ]
  },
  {
   "cell_type": "code",
   "source": [
    "#tipo de cada coluna do dataframe:\n",
    "rotas_rodoviarias.iloc[0:2]"
   ],
   "metadata": {
    "id": "GBw2pGDAHlZe",
    "executionInfo": {
     "status": "ok",
     "timestamp": 1705850620828,
     "user_tz": 180,
     "elapsed": 9,
     "user": {
      "displayName": "Silas Falcão",
      "userId": "16882483878720005620"
     }
    },
    "outputId": "607a45ba-63c0-4180-b152-4695a2e49d8e",
    "colab": {
     "base_uri": "https://localhost:8080/",
     "height": 132
    },
    "ExecuteTime": {
     "start_time": "2024-01-22T01:07:43.860171Z"
    }
   },
   "execution_count": 8,
   "outputs": [
    {
     "ename": "NameError",
     "evalue": "name 'rotas_rodoviarias' is not defined",
     "output_type": "error",
     "traceback": [
      "\u001B[0;31m---------------------------------------------------------------------------\u001B[0m",
      "\u001B[0;31mNameError\u001B[0m                                 Traceback (most recent call last)",
      "Cell \u001B[0;32mIn[8], line 2\u001B[0m\n\u001B[1;32m      1\u001B[0m \u001B[38;5;66;03m#tipo de cada coluna do dataframe:\u001B[39;00m\n\u001B[0;32m----> 2\u001B[0m \u001B[43mrotas_rodoviarias\u001B[49m\u001B[38;5;241m.\u001B[39miloc[\u001B[38;5;241m0\u001B[39m:\u001B[38;5;241m2\u001B[39m]\n",
      "\u001B[0;31mNameError\u001B[0m: name 'rotas_rodoviarias' is not defined"
     ]
    }
   ]
  },
  {
   "cell_type": "code",
   "source": [
    "#tipo de cada coluna do dataframe:\n",
    "df = rotas_rodoviarias.iloc[2:]"
   ],
   "metadata": {
    "id": "Vxshu1rvOEh3",
    "executionInfo": {
     "status": "ok",
     "timestamp": 1705850620828,
     "user_tz": 180,
     "elapsed": 8,
     "user": {
      "displayName": "Silas Falcão",
      "userId": "16882483878720005620"
     }
    },
    "ExecuteTime": {
     "end_time": "2024-01-22T01:07:43.906994Z",
     "start_time": "2024-01-22T01:07:43.875793Z"
    }
   },
   "execution_count": 9,
   "outputs": [
    {
     "ename": "NameError",
     "evalue": "name 'rotas_rodoviarias' is not defined",
     "output_type": "error",
     "traceback": [
      "\u001B[0;31m---------------------------------------------------------------------------\u001B[0m",
      "\u001B[0;31mNameError\u001B[0m                                 Traceback (most recent call last)",
      "Cell \u001B[0;32mIn[9], line 2\u001B[0m\n\u001B[1;32m      1\u001B[0m \u001B[38;5;66;03m#tipo de cada coluna do dataframe:\u001B[39;00m\n\u001B[0;32m----> 2\u001B[0m df \u001B[38;5;241m=\u001B[39m \u001B[43mrotas_rodoviarias\u001B[49m\u001B[38;5;241m.\u001B[39miloc[\u001B[38;5;241m2\u001B[39m:]\n",
      "\u001B[0;31mNameError\u001B[0m: name 'rotas_rodoviarias' is not defined"
     ]
    }
   ]
  },
  {
   "cell_type": "code",
   "source": [
    "df"
   ],
   "metadata": {
    "id": "1zhQSByYOQY4",
    "executionInfo": {
     "status": "ok",
     "timestamp": 1705850620828,
     "user_tz": 180,
     "elapsed": 8,
     "user": {
      "displayName": "Silas Falcão",
      "userId": "16882483878720005620"
     }
    },
    "outputId": "e28f5dbe-30c0-4ffe-a67d-43c39965551f",
    "colab": {
     "base_uri": "https://localhost:8080/",
     "height": 444
    },
    "ExecuteTime": {
     "end_time": "2024-01-22T01:07:43.936966Z",
     "start_time": "2024-01-22T01:07:43.913806Z"
    }
   },
   "execution_count": 10,
   "outputs": [
    {
     "ename": "NameError",
     "evalue": "name 'df' is not defined",
     "output_type": "error",
     "traceback": [
      "\u001B[0;31m---------------------------------------------------------------------------\u001B[0m",
      "\u001B[0;31mNameError\u001B[0m                                 Traceback (most recent call last)",
      "Cell \u001B[0;32mIn[10], line 1\u001B[0m\n\u001B[0;32m----> 1\u001B[0m \u001B[43mdf\u001B[49m\n",
      "\u001B[0;31mNameError\u001B[0m: name 'df' is not defined"
     ]
    }
   ]
  },
  {
   "cell_type": "code",
   "source": [
    "df.POSTOPOLICIAL.value_counts()"
   ],
   "metadata": {
    "id": "Lu131j7VO383",
    "executionInfo": {
     "status": "ok",
     "timestamp": 1705850621174,
     "user_tz": 180,
     "elapsed": 352,
     "user": {
      "displayName": "Silas Falcão",
      "userId": "16882483878720005620"
     }
    },
    "outputId": "05b5ee33-c867-42a6-a8fa-5f00125ade46",
    "colab": {
     "base_uri": "https://localhost:8080/"
    },
    "ExecuteTime": {
     "end_time": "2024-01-22T01:07:43.962230Z",
     "start_time": "2024-01-22T01:07:43.940551Z"
    }
   },
   "execution_count": 11,
   "outputs": [
    {
     "ename": "NameError",
     "evalue": "name 'df' is not defined",
     "output_type": "error",
     "traceback": [
      "\u001B[0;31m---------------------------------------------------------------------------\u001B[0m",
      "\u001B[0;31mNameError\u001B[0m                                 Traceback (most recent call last)",
      "Cell \u001B[0;32mIn[11], line 1\u001B[0m\n\u001B[0;32m----> 1\u001B[0m \u001B[43mdf\u001B[49m\u001B[38;5;241m.\u001B[39mPOSTOPOLICIAL\u001B[38;5;241m.\u001B[39mvalue_counts()\n",
      "\u001B[0;31mNameError\u001B[0m: name 'df' is not defined"
     ]
    }
   ]
  },
  {
   "cell_type": "code",
   "source": [
    "#colunas continuas\n",
    "df_colunas_continuas = df[['DIRIGIBILIDADE', 'DISTANCIA', 'FALHAS', 'LOMBADAS', 'ILUMINACAO', 'SINALIZACAO']]"
   ],
   "metadata": {
    "id": "HnDijT02jCwV",
    "executionInfo": {
     "status": "ok",
     "timestamp": 1705850621174,
     "user_tz": 180,
     "elapsed": 10,
     "user": {
      "displayName": "Silas Falcão",
      "userId": "16882483878720005620"
     }
    },
    "ExecuteTime": {
     "end_time": "2024-01-22T01:07:43.988478Z",
     "start_time": "2024-01-22T01:07:43.968295Z"
    }
   },
   "execution_count": 12,
   "outputs": [
    {
     "ename": "NameError",
     "evalue": "name 'df' is not defined",
     "output_type": "error",
     "traceback": [
      "\u001B[0;31m---------------------------------------------------------------------------\u001B[0m",
      "\u001B[0;31mNameError\u001B[0m                                 Traceback (most recent call last)",
      "Cell \u001B[0;32mIn[12], line 2\u001B[0m\n\u001B[1;32m      1\u001B[0m \u001B[38;5;66;03m#colunas continuas\u001B[39;00m\n\u001B[0;32m----> 2\u001B[0m df_colunas_continuas \u001B[38;5;241m=\u001B[39m \u001B[43mdf\u001B[49m[[\u001B[38;5;124m'\u001B[39m\u001B[38;5;124mDIRIGIBILIDADE\u001B[39m\u001B[38;5;124m'\u001B[39m, \u001B[38;5;124m'\u001B[39m\u001B[38;5;124mDISTANCIA\u001B[39m\u001B[38;5;124m'\u001B[39m, \u001B[38;5;124m'\u001B[39m\u001B[38;5;124mFALHAS\u001B[39m\u001B[38;5;124m'\u001B[39m, \u001B[38;5;124m'\u001B[39m\u001B[38;5;124mLOMBADAS\u001B[39m\u001B[38;5;124m'\u001B[39m, \u001B[38;5;124m'\u001B[39m\u001B[38;5;124mILUMINACAO\u001B[39m\u001B[38;5;124m'\u001B[39m, \u001B[38;5;124m'\u001B[39m\u001B[38;5;124mSINALIZACAO\u001B[39m\u001B[38;5;124m'\u001B[39m]]\n",
      "\u001B[0;31mNameError\u001B[0m: name 'df' is not defined"
     ]
    }
   ]
  },
  {
   "cell_type": "code",
   "source": [
    "df_colunas_continuas.DIRIGIBILIDADE.iloc[1]"
   ],
   "metadata": {
    "id": "WR2aEVlpPosY",
    "executionInfo": {
     "status": "ok",
     "timestamp": 1705850621175,
     "user_tz": 180,
     "elapsed": 11,
     "user": {
      "displayName": "Silas Falcão",
      "userId": "16882483878720005620"
     }
    },
    "outputId": "840e6e22-4548-44cf-86fd-1a52fec55085",
    "colab": {
     "base_uri": "https://localhost:8080/",
     "height": 35
    },
    "ExecuteTime": {
     "start_time": "2024-01-22T01:07:43.970704Z"
    }
   },
   "execution_count": null,
   "outputs": []
  },
  {
   "cell_type": "code",
   "source": [
    "import pandas as pd\n",
    "df = pd.read_csv('rotas.csv')\n",
    "colunas_numericas = ['DIRIGIBILIDADE', 'DISTANCIA', 'FALHAS', 'LOMBADAS', 'ILUMINACAO', 'SINALIZACAO']\n",
    "df_colunas_continuas = pd.DataFrame(df[colunas_numericas].apply(pd.to_numeric, errors='coerce'))"
   ],
   "metadata": {
    "id": "xknUYa6dQxa_",
    "executionInfo": {
     "status": "ok",
     "timestamp": 1705850621175,
     "user_tz": 180,
     "elapsed": 9,
     "user": {
      "displayName": "Silas Falcão",
      "userId": "16882483878720005620"
     }
    },
    "ExecuteTime": {
     "end_time": "2024-01-22T01:07:44.023431Z",
     "start_time": "2024-01-22T01:07:43.991068Z"
    }
   },
   "execution_count": 13,
   "outputs": []
  },
  {
   "cell_type": "code",
   "source": [
    "df_colunas_continuas.info()"
   ],
   "metadata": {
    "id": "DseLHCeYQ385",
    "executionInfo": {
     "status": "ok",
     "timestamp": 1705850621175,
     "user_tz": 180,
     "elapsed": 9,
     "user": {
      "displayName": "Silas Falcão",
      "userId": "16882483878720005620"
     }
    },
    "outputId": "338f5f40-528d-4e7e-c3d2-3ae5e67a27f7",
    "colab": {
     "base_uri": "https://localhost:8080/"
    },
    "ExecuteTime": {
     "end_time": "2024-01-22T01:07:44.024593Z",
     "start_time": "2024-01-22T01:07:44.006690Z"
    }
   },
   "execution_count": 14,
   "outputs": [
    {
     "name": "stdout",
     "output_type": "stream",
     "text": [
      "<class 'pandas.core.frame.DataFrame'>\n",
      "RangeIndex: 5121 entries, 0 to 5120\n",
      "Data columns (total 6 columns):\n",
      " #   Column          Non-Null Count  Dtype  \n",
      "---  ------          --------------  -----  \n",
      " 0   DIRIGIBILIDADE  5119 non-null   float64\n",
      " 1   DISTANCIA       5119 non-null   float64\n",
      " 2   FALHAS          5119 non-null   float64\n",
      " 3   LOMBADAS        5119 non-null   float64\n",
      " 4   ILUMINACAO      5119 non-null   float64\n",
      " 5   SINALIZACAO     5119 non-null   float64\n",
      "dtypes: float64(6)\n",
      "memory usage: 240.2 KB\n"
     ]
    }
   ]
  },
  {
   "cell_type": "code",
   "source": [
    "df_colunas_continuas"
   ],
   "metadata": {
    "id": "TkQm-G3LRPGx",
    "executionInfo": {
     "status": "ok",
     "timestamp": 1705850621507,
     "user_tz": 180,
     "elapsed": 339,
     "user": {
      "displayName": "Silas Falcão",
      "userId": "16882483878720005620"
     }
    },
    "outputId": "b93ed5d0-50c7-49c4-ee0e-d4a319f44ac5",
    "colab": {
     "base_uri": "https://localhost:8080/",
     "height": 898
    },
    "ExecuteTime": {
     "end_time": "2024-01-22T01:07:44.055953Z",
     "start_time": "2024-01-22T01:07:44.027111Z"
    }
   },
   "execution_count": 15,
   "outputs": [
    {
     "data": {
      "text/plain": "      DIRIGIBILIDADE  DISTANCIA  FALHAS  LOMBADAS  ILUMINACAO  SINALIZACAO\n0                NaN        NaN     NaN       NaN         NaN          NaN\n1                NaN        NaN     NaN       NaN         NaN          NaN\n2                3.0      159.0    20.0      16.0         4.0          3.0\n3                2.0      131.0     3.0       2.0         1.0          6.0\n4                3.0      141.0     2.0      27.0         3.0         57.0\n...              ...        ...     ...       ...         ...          ...\n5116             1.0      342.0     3.0      17.0         4.0         24.0\n5117             1.0      249.0    17.0      10.0         5.0         25.0\n5118             3.0       89.0    18.0      20.0         3.0         56.0\n5119             3.0      197.0     3.0      19.0         4.0         71.0\n5120             1.0      126.0     8.0      23.0         4.0         12.0\n\n[5121 rows x 6 columns]",
      "text/html": "<div>\n<style scoped>\n    .dataframe tbody tr th:only-of-type {\n        vertical-align: middle;\n    }\n\n    .dataframe tbody tr th {\n        vertical-align: top;\n    }\n\n    .dataframe thead th {\n        text-align: right;\n    }\n</style>\n<table border=\"1\" class=\"dataframe\">\n  <thead>\n    <tr style=\"text-align: right;\">\n      <th></th>\n      <th>DIRIGIBILIDADE</th>\n      <th>DISTANCIA</th>\n      <th>FALHAS</th>\n      <th>LOMBADAS</th>\n      <th>ILUMINACAO</th>\n      <th>SINALIZACAO</th>\n    </tr>\n  </thead>\n  <tbody>\n    <tr>\n      <th>0</th>\n      <td>NaN</td>\n      <td>NaN</td>\n      <td>NaN</td>\n      <td>NaN</td>\n      <td>NaN</td>\n      <td>NaN</td>\n    </tr>\n    <tr>\n      <th>1</th>\n      <td>NaN</td>\n      <td>NaN</td>\n      <td>NaN</td>\n      <td>NaN</td>\n      <td>NaN</td>\n      <td>NaN</td>\n    </tr>\n    <tr>\n      <th>2</th>\n      <td>3.0</td>\n      <td>159.0</td>\n      <td>20.0</td>\n      <td>16.0</td>\n      <td>4.0</td>\n      <td>3.0</td>\n    </tr>\n    <tr>\n      <th>3</th>\n      <td>2.0</td>\n      <td>131.0</td>\n      <td>3.0</td>\n      <td>2.0</td>\n      <td>1.0</td>\n      <td>6.0</td>\n    </tr>\n    <tr>\n      <th>4</th>\n      <td>3.0</td>\n      <td>141.0</td>\n      <td>2.0</td>\n      <td>27.0</td>\n      <td>3.0</td>\n      <td>57.0</td>\n    </tr>\n    <tr>\n      <th>...</th>\n      <td>...</td>\n      <td>...</td>\n      <td>...</td>\n      <td>...</td>\n      <td>...</td>\n      <td>...</td>\n    </tr>\n    <tr>\n      <th>5116</th>\n      <td>1.0</td>\n      <td>342.0</td>\n      <td>3.0</td>\n      <td>17.0</td>\n      <td>4.0</td>\n      <td>24.0</td>\n    </tr>\n    <tr>\n      <th>5117</th>\n      <td>1.0</td>\n      <td>249.0</td>\n      <td>17.0</td>\n      <td>10.0</td>\n      <td>5.0</td>\n      <td>25.0</td>\n    </tr>\n    <tr>\n      <th>5118</th>\n      <td>3.0</td>\n      <td>89.0</td>\n      <td>18.0</td>\n      <td>20.0</td>\n      <td>3.0</td>\n      <td>56.0</td>\n    </tr>\n    <tr>\n      <th>5119</th>\n      <td>3.0</td>\n      <td>197.0</td>\n      <td>3.0</td>\n      <td>19.0</td>\n      <td>4.0</td>\n      <td>71.0</td>\n    </tr>\n    <tr>\n      <th>5120</th>\n      <td>1.0</td>\n      <td>126.0</td>\n      <td>8.0</td>\n      <td>23.0</td>\n      <td>4.0</td>\n      <td>12.0</td>\n    </tr>\n  </tbody>\n</table>\n<p>5121 rows × 6 columns</p>\n</div>"
     },
     "execution_count": 15,
     "metadata": {},
     "output_type": "execute_result"
    }
   ]
  },
  {
   "cell_type": "code",
   "source": [
    "df_colunas_continuas.corr()"
   ],
   "metadata": {
    "id": "I6_VT1UWPwqW",
    "executionInfo": {
     "status": "ok",
     "timestamp": 1705850621507,
     "user_tz": 180,
     "elapsed": 7,
     "user": {
      "displayName": "Silas Falcão",
      "userId": "16882483878720005620"
     }
    },
    "outputId": "421d9f7e-92fc-4f76-c9c2-b1be2d25e296",
    "colab": {
     "base_uri": "https://localhost:8080/",
     "height": 238
    },
    "ExecuteTime": {
     "end_time": "2024-01-22T01:07:44.058498Z",
     "start_time": "2024-01-22T01:07:44.034474Z"
    }
   },
   "execution_count": 16,
   "outputs": [
    {
     "data": {
      "text/plain": "                DIRIGIBILIDADE  DISTANCIA    FALHAS  LOMBADAS  ILUMINACAO  \\\nDIRIGIBILIDADE        1.000000   0.002197 -0.025305  0.008077   -0.006154   \nDISTANCIA             0.002197   1.000000 -0.015392  0.033158   -0.030577   \nFALHAS               -0.025305  -0.015392  1.000000 -0.009865   -0.001686   \nLOMBADAS              0.008077   0.033158 -0.009865  1.000000   -0.007987   \nILUMINACAO           -0.006154  -0.030577 -0.001686 -0.007987    1.000000   \nSINALIZACAO           0.020392  -0.001382 -0.004636 -0.012594   -0.013207   \n\n                SINALIZACAO  \nDIRIGIBILIDADE     0.020392  \nDISTANCIA         -0.001382  \nFALHAS            -0.004636  \nLOMBADAS          -0.012594  \nILUMINACAO        -0.013207  \nSINALIZACAO        1.000000  ",
      "text/html": "<div>\n<style scoped>\n    .dataframe tbody tr th:only-of-type {\n        vertical-align: middle;\n    }\n\n    .dataframe tbody tr th {\n        vertical-align: top;\n    }\n\n    .dataframe thead th {\n        text-align: right;\n    }\n</style>\n<table border=\"1\" class=\"dataframe\">\n  <thead>\n    <tr style=\"text-align: right;\">\n      <th></th>\n      <th>DIRIGIBILIDADE</th>\n      <th>DISTANCIA</th>\n      <th>FALHAS</th>\n      <th>LOMBADAS</th>\n      <th>ILUMINACAO</th>\n      <th>SINALIZACAO</th>\n    </tr>\n  </thead>\n  <tbody>\n    <tr>\n      <th>DIRIGIBILIDADE</th>\n      <td>1.000000</td>\n      <td>0.002197</td>\n      <td>-0.025305</td>\n      <td>0.008077</td>\n      <td>-0.006154</td>\n      <td>0.020392</td>\n    </tr>\n    <tr>\n      <th>DISTANCIA</th>\n      <td>0.002197</td>\n      <td>1.000000</td>\n      <td>-0.015392</td>\n      <td>0.033158</td>\n      <td>-0.030577</td>\n      <td>-0.001382</td>\n    </tr>\n    <tr>\n      <th>FALHAS</th>\n      <td>-0.025305</td>\n      <td>-0.015392</td>\n      <td>1.000000</td>\n      <td>-0.009865</td>\n      <td>-0.001686</td>\n      <td>-0.004636</td>\n    </tr>\n    <tr>\n      <th>LOMBADAS</th>\n      <td>0.008077</td>\n      <td>0.033158</td>\n      <td>-0.009865</td>\n      <td>1.000000</td>\n      <td>-0.007987</td>\n      <td>-0.012594</td>\n    </tr>\n    <tr>\n      <th>ILUMINACAO</th>\n      <td>-0.006154</td>\n      <td>-0.030577</td>\n      <td>-0.001686</td>\n      <td>-0.007987</td>\n      <td>1.000000</td>\n      <td>-0.013207</td>\n    </tr>\n    <tr>\n      <th>SINALIZACAO</th>\n      <td>0.020392</td>\n      <td>-0.001382</td>\n      <td>-0.004636</td>\n      <td>-0.012594</td>\n      <td>-0.013207</td>\n      <td>1.000000</td>\n    </tr>\n  </tbody>\n</table>\n</div>"
     },
     "execution_count": 16,
     "metadata": {},
     "output_type": "execute_result"
    }
   ]
  },
  {
   "cell_type": "code",
   "source": [
    "# análise de correlação\n",
    "correlation = df_colunas_continuas.corr()"
   ],
   "metadata": {
    "id": "GbJL58IJSftN",
    "executionInfo": {
     "status": "ok",
     "timestamp": 1705850621508,
     "user_tz": 180,
     "elapsed": 6,
     "user": {
      "displayName": "Silas Falcão",
      "userId": "16882483878720005620"
     }
    },
    "ExecuteTime": {
     "end_time": "2024-01-22T01:07:44.059050Z",
     "start_time": "2024-01-22T01:07:44.039823Z"
    }
   },
   "execution_count": 17,
   "outputs": []
  },
  {
   "cell_type": "code",
   "source": [
    "import seaborn as sns\n",
    "\n",
    "# plot da matriz de correlação\n",
    "plot = sns.heatmap(correlation, annot = True, fmt=\".3f\", linewidths=.6)\n",
    "plot"
   ],
   "metadata": {
    "id": "i49TVR-BXt4C",
    "executionInfo": {
     "status": "ok",
     "timestamp": 1705850627716,
     "user_tz": 180,
     "elapsed": 6214,
     "user": {
      "displayName": "Silas Falcão",
      "userId": "16882483878720005620"
     }
    },
    "outputId": "476a7b0b-2f6f-4792-e5ea-ee358e040d36",
    "colab": {
     "base_uri": "https://localhost:8080/",
     "height": 547
    },
    "ExecuteTime": {
     "end_time": "2024-01-22T01:07:44.355715Z",
     "start_time": "2024-01-22T01:07:44.060492Z"
    }
   },
   "execution_count": 18,
   "outputs": [
    {
     "data": {
      "text/plain": "<Axes: >"
     },
     "execution_count": 18,
     "metadata": {},
     "output_type": "execute_result"
    },
    {
     "data": {
      "text/plain": "<Figure size 640x480 with 2 Axes>",
      "image/png": "[encoded data removed]"
     },
     "metadata": {},
     "output_type": "display_data"
    }
   ]
  },
  {
   "cell_type": "markdown",
   "source": [],
   "metadata": {
    "id": "bvMRrgJNPoFl"
   }
  },
  {
   "cell_type": "markdown",
   "source": [
    "O coeficiente de Pearson, também chamado de “coeficiente de correlação produto-momento” ou chamado de “ρ de Pearson”, mede o grau de correlação através do cálculo de direção positiva ou negativa. Este coeficiente, normalmente representado por ρ assume apenas valores entre -1 e 1.\n",
    "\n",
    "A análise de correlação vai retornar três possíveis cenários: (1) correlação positiva; (2) correlação negativa; e (3) não há correlação.\n",
    "\n",
    "Correlação positiva: quando duas variáveis que possuem correlação crescem ou decrescem juntas, ou seja, que possuem uma relação direta;\n",
    "Correlação negativa: quando duas variáveis que possuem correlação mas quando uma variável cresce a outra decresce, ou vice-versa;\n",
    "Não ter correlação: quando o crescimento ou decrescimento de uma variável não tem efeito sobre outra variável.\n",
    "\n",
    "\n",
    "Como podemos interpretar os valores que ρ pode assumir?\n",
    "\n",
    "ρ = 0,9 a 1 (positivo ou negativo): correlação muito forte;\n",
    "ρ = 0,7 a 09 (positivo ou negativo): correlação forte;\n",
    "ρ = 0,5 a 0,7 (positivo ou negativo): correlação moderada;\n",
    "ρ = 0,3 a 0,5 (positivo ou negativo): correlação fraca;\n",
    "ρ = 0 a 0,3 (positivo ou negativo): não possui correlação.\n"
   ],
   "metadata": {
    "id": "ARYIbxbrcCJD"
   }
  },
  {
   "cell_type": "markdown",
   "source": [
    "# **DIRIGIBILIDADE X LOMBADAS**"
   ],
   "metadata": {
    "id": "dqyIy5GphNnN"
   }
  },
  {
   "cell_type": "code",
   "source": [
    "import seaborn as sns\n",
    "import matplotlib.pyplot as plt\n",
    "\n",
    "# Suponha que 'df' seja o seu DataFrame\n",
    "sns.barplot(x='DIRIGIBILIDADE', y='LOMBADAS', palette='Set2', data=df_colunas_continuas[['DIRIGIBILIDADE', 'LOMBADAS']])\n",
    "plt.show()"
   ],
   "metadata": {
    "colab": {
     "base_uri": "https://localhost:8080/",
     "height": 558
    },
    "id": "8NUOB2xccwIl",
    "executionInfo": {
     "status": "ok",
     "timestamp": 1705850629009,
     "user_tz": 180,
     "elapsed": 1298,
     "user": {
      "displayName": "Silas Falcão",
      "userId": "16882483878720005620"
     }
    },
    "outputId": "10b685e0-be85-4805-96a4-7691dd17b9a0",
    "ExecuteTime": {
     "end_time": "2024-01-22T01:07:44.457331Z",
     "start_time": "2024-01-22T01:07:44.302746Z"
    }
   },
   "execution_count": 19,
   "outputs": [
    {
     "name": "stderr",
     "output_type": "stream",
     "text": [
      "/var/folders/sr/81w53tg15q361zg6hp53cb080000gn/T/ipykernel_6125/2801681523.py:5: FutureWarning: \n",
      "\n",
      "Passing `palette` without assigning `hue` is deprecated and will be removed in v0.14.0. Assign the `x` variable to `hue` and set `legend=False` for the same effect.\n",
      "\n",
      "  sns.barplot(x='DIRIGIBILIDADE', y='LOMBADAS', palette='Set2', data=df_colunas_continuas[['DIRIGIBILIDADE', 'LOMBADAS']])\n",
      "/Users/silasafalcao/Library/CloudStorage/GoogleDrive-safalcao@gmail.com/Meu Drive/venv/lib/python3.12/site-packages/seaborn/_base.py:949: FutureWarning: When grouping with a length-1 list-like, you will need to pass a length-1 tuple to get_group in a future version of pandas. Pass `(name,)` instead of `name` to silence this warning.\n",
      "  data_subset = grouped_data.get_group(pd_key)\n",
      "/Users/silasafalcao/Library/CloudStorage/GoogleDrive-safalcao@gmail.com/Meu Drive/venv/lib/python3.12/site-packages/seaborn/_base.py:949: FutureWarning: When grouping with a length-1 list-like, you will need to pass a length-1 tuple to get_group in a future version of pandas. Pass `(name,)` instead of `name` to silence this warning.\n",
      "  data_subset = grouped_data.get_group(pd_key)\n",
      "/Users/silasafalcao/Library/CloudStorage/GoogleDrive-safalcao@gmail.com/Meu Drive/venv/lib/python3.12/site-packages/seaborn/_base.py:949: FutureWarning: When grouping with a length-1 list-like, you will need to pass a length-1 tuple to get_group in a future version of pandas. Pass `(name,)` instead of `name` to silence this warning.\n",
      "  data_subset = grouped_data.get_group(pd_key)\n"
     ]
    },
    {
     "data": {
      "text/plain": "<Figure size 640x480 with 1 Axes>",
      "image/png": "[encoded data removed]"
     },
     "metadata": {},
     "output_type": "display_data"
    }
   ]
  },
  {
   "cell_type": "markdown",
   "source": [
    "# **DIRIGIBILIDADE X DISTANCIA**"
   ],
   "metadata": {
    "id": "anXNmmH-eS6-"
   }
  },
  {
   "cell_type": "code",
   "source": [
    "import matplotlib.pyplot as plt\n",
    "sns.barplot(x='DIRIGIBILIDADE', y='DISTANCIA', palette='Set3', data=df_colunas_continuas[['DIRIGIBILIDADE', 'DISTANCIA']])\n",
    "plt.show()"
   ],
   "metadata": {
    "colab": {
     "base_uri": "https://localhost:8080/",
     "height": 558
    },
    "executionInfo": {
     "status": "ok",
     "timestamp": 1705850630615,
     "user_tz": 180,
     "elapsed": 1611,
     "user": {
      "displayName": "Silas Falcão",
      "userId": "16882483878720005620"
     }
    },
    "outputId": "a77f8986-cbff-45ec-be4d-a77fa80896c0",
    "id": "bsgVouGFdDt0",
    "ExecuteTime": {
     "end_time": "2024-01-22T01:07:44.537041Z",
     "start_time": "2024-01-22T01:07:44.426947Z"
    }
   },
   "execution_count": 20,
   "outputs": [
    {
     "name": "stderr",
     "output_type": "stream",
     "text": [
      "/var/folders/sr/81w53tg15q361zg6hp53cb080000gn/T/ipykernel_6125/655670386.py:2: FutureWarning: \n",
      "\n",
      "Passing `palette` without assigning `hue` is deprecated and will be removed in v0.14.0. Assign the `x` variable to `hue` and set `legend=False` for the same effect.\n",
      "\n",
      "  sns.barplot(x='DIRIGIBILIDADE', y='DISTANCIA', palette='Set3', data=df_colunas_continuas[['DIRIGIBILIDADE', 'DISTANCIA']])\n",
      "/Users/silasafalcao/Library/CloudStorage/GoogleDrive-safalcao@gmail.com/Meu Drive/venv/lib/python3.12/site-packages/seaborn/_base.py:949: FutureWarning: When grouping with a length-1 list-like, you will need to pass a length-1 tuple to get_group in a future version of pandas. Pass `(name,)` instead of `name` to silence this warning.\n",
      "  data_subset = grouped_data.get_group(pd_key)\n",
      "/Users/silasafalcao/Library/CloudStorage/GoogleDrive-safalcao@gmail.com/Meu Drive/venv/lib/python3.12/site-packages/seaborn/_base.py:949: FutureWarning: When grouping with a length-1 list-like, you will need to pass a length-1 tuple to get_group in a future version of pandas. Pass `(name,)` instead of `name` to silence this warning.\n",
      "  data_subset = grouped_data.get_group(pd_key)\n",
      "/Users/silasafalcao/Library/CloudStorage/GoogleDrive-safalcao@gmail.com/Meu Drive/venv/lib/python3.12/site-packages/seaborn/_base.py:949: FutureWarning: When grouping with a length-1 list-like, you will need to pass a length-1 tuple to get_group in a future version of pandas. Pass `(name,)` instead of `name` to silence this warning.\n",
      "  data_subset = grouped_data.get_group(pd_key)\n"
     ]
    },
    {
     "data": {
      "text/plain": "<Figure size 640x480 with 1 Axes>",
      "image/png": "[encoded data removed]"
     },
     "metadata": {},
     "output_type": "display_data"
    }
   ]
  },
  {
   "cell_type": "markdown",
   "source": [],
   "metadata": {
    "id": "Uw6QOGCIfZ4H"
   }
  },
  {
   "cell_type": "markdown",
   "source": [
    "# **DIRIGIBILIDADE X FALHAS**"
   ],
   "metadata": {
    "id": "dVF9-uA2hBOX"
   }
  },
  {
   "cell_type": "code",
   "source": [
    "sns.barplot(x='DIRIGIBILIDADE', y='FALHAS', palette='Set1', data=df_colunas_continuas[['DIRIGIBILIDADE', 'FALHAS']])\n",
    "plt.show()"
   ],
   "metadata": {
    "colab": {
     "base_uri": "https://localhost:8080/",
     "height": 558
    },
    "id": "3R8628ePfiXP",
    "executionInfo": {
     "status": "ok",
     "timestamp": 1705850632067,
     "user_tz": 180,
     "elapsed": 1454,
     "user": {
      "displayName": "Silas Falcão",
      "userId": "16882483878720005620"
     }
    },
    "outputId": "ea83908f-0381-4ad1-8274-01105fff7afe",
    "ExecuteTime": {
     "end_time": "2024-01-22T01:07:44.650743Z",
     "start_time": "2024-01-22T01:07:44.537021Z"
    }
   },
   "execution_count": 21,
   "outputs": [
    {
     "name": "stderr",
     "output_type": "stream",
     "text": [
      "/var/folders/sr/81w53tg15q361zg6hp53cb080000gn/T/ipykernel_6125/305697852.py:1: FutureWarning: \n",
      "\n",
      "Passing `palette` without assigning `hue` is deprecated and will be removed in v0.14.0. Assign the `x` variable to `hue` and set `legend=False` for the same effect.\n",
      "\n",
      "  sns.barplot(x='DIRIGIBILIDADE', y='FALHAS', palette='Set1', data=df_colunas_continuas[['DIRIGIBILIDADE', 'FALHAS']])\n",
      "/Users/silasafalcao/Library/CloudStorage/GoogleDrive-safalcao@gmail.com/Meu Drive/venv/lib/python3.12/site-packages/seaborn/_base.py:949: FutureWarning: When grouping with a length-1 list-like, you will need to pass a length-1 tuple to get_group in a future version of pandas. Pass `(name,)` instead of `name` to silence this warning.\n",
      "  data_subset = grouped_data.get_group(pd_key)\n",
      "/Users/silasafalcao/Library/CloudStorage/GoogleDrive-safalcao@gmail.com/Meu Drive/venv/lib/python3.12/site-packages/seaborn/_base.py:949: FutureWarning: When grouping with a length-1 list-like, you will need to pass a length-1 tuple to get_group in a future version of pandas. Pass `(name,)` instead of `name` to silence this warning.\n",
      "  data_subset = grouped_data.get_group(pd_key)\n",
      "/Users/silasafalcao/Library/CloudStorage/GoogleDrive-safalcao@gmail.com/Meu Drive/venv/lib/python3.12/site-packages/seaborn/_base.py:949: FutureWarning: When grouping with a length-1 list-like, you will need to pass a length-1 tuple to get_group in a future version of pandas. Pass `(name,)` instead of `name` to silence this warning.\n",
      "  data_subset = grouped_data.get_group(pd_key)\n"
     ]
    },
    {
     "data": {
      "text/plain": "<Figure size 640x480 with 1 Axes>",
      "image/png": "[encoded data removed]"
     },
     "metadata": {},
     "output_type": "display_data"
    }
   ]
  },
  {
   "cell_type": "markdown",
   "source": [],
   "metadata": {
    "id": "YDSgL59ggzEW"
   }
  },
  {
   "cell_type": "markdown",
   "source": [
    "# **DIRIGIBILIDADE X ILUMINACAO**"
   ],
   "metadata": {
    "id": "m4iXM6xcg0Ss"
   }
  },
  {
   "cell_type": "code",
   "source": [],
   "metadata": {
    "id": "xyqoG1V1hWJP",
    "executionInfo": {
     "status": "ok",
     "timestamp": 1705850632067,
     "user_tz": 180,
     "elapsed": 5,
     "user": {
      "displayName": "Silas Falcão",
      "userId": "16882483878720005620"
     }
    },
    "ExecuteTime": {
     "end_time": "2024-01-22T01:07:44.651414Z",
     "start_time": "2024-01-22T01:07:44.647839Z"
    }
   },
   "execution_count": 21,
   "outputs": []
  },
  {
   "cell_type": "code",
   "source": [
    "sns.barplot(x='DIRIGIBILIDADE', y='ILUMINACAO', palette='Set2', data=df_colunas_continuas[['DIRIGIBILIDADE', 'ILUMINACAO']])\n",
    "plt.show()"
   ],
   "metadata": {
    "colab": {
     "base_uri": "https://localhost:8080/",
     "height": 558
    },
    "executionInfo": {
     "status": "ok",
     "timestamp": 1705850633475,
     "user_tz": 180,
     "elapsed": 1412,
     "user": {
      "displayName": "Silas Falcão",
      "userId": "16882483878720005620"
     }
    },
    "outputId": "92fdb60f-e7a9-402d-8581-f756d0e153b9",
    "id": "tegc3FKEhhfS",
    "ExecuteTime": {
     "end_time": "2024-01-22T01:07:44.766381Z",
     "start_time": "2024-01-22T01:07:44.651531Z"
    }
   },
   "execution_count": 22,
   "outputs": [
    {
     "name": "stderr",
     "output_type": "stream",
     "text": [
      "/var/folders/sr/81w53tg15q361zg6hp53cb080000gn/T/ipykernel_6125/91586121.py:1: FutureWarning: \n",
      "\n",
      "Passing `palette` without assigning `hue` is deprecated and will be removed in v0.14.0. Assign the `x` variable to `hue` and set `legend=False` for the same effect.\n",
      "\n",
      "  sns.barplot(x='DIRIGIBILIDADE', y='ILUMINACAO', palette='Set2', data=df_colunas_continuas[['DIRIGIBILIDADE', 'ILUMINACAO']])\n",
      "/Users/silasafalcao/Library/CloudStorage/GoogleDrive-safalcao@gmail.com/Meu Drive/venv/lib/python3.12/site-packages/seaborn/_base.py:949: FutureWarning: When grouping with a length-1 list-like, you will need to pass a length-1 tuple to get_group in a future version of pandas. Pass `(name,)` instead of `name` to silence this warning.\n",
      "  data_subset = grouped_data.get_group(pd_key)\n",
      "/Users/silasafalcao/Library/CloudStorage/GoogleDrive-safalcao@gmail.com/Meu Drive/venv/lib/python3.12/site-packages/seaborn/_base.py:949: FutureWarning: When grouping with a length-1 list-like, you will need to pass a length-1 tuple to get_group in a future version of pandas. Pass `(name,)` instead of `name` to silence this warning.\n",
      "  data_subset = grouped_data.get_group(pd_key)\n",
      "/Users/silasafalcao/Library/CloudStorage/GoogleDrive-safalcao@gmail.com/Meu Drive/venv/lib/python3.12/site-packages/seaborn/_base.py:949: FutureWarning: When grouping with a length-1 list-like, you will need to pass a length-1 tuple to get_group in a future version of pandas. Pass `(name,)` instead of `name` to silence this warning.\n",
      "  data_subset = grouped_data.get_group(pd_key)\n"
     ]
    },
    {
     "data": {
      "text/plain": "<Figure size 640x480 with 1 Axes>",
      "image/png": "[encoded data removed]"
     },
     "metadata": {},
     "output_type": "display_data"
    }
   ]
  },
  {
   "cell_type": "markdown",
   "source": [],
   "metadata": {
    "id": "7SXq9igNiJZP"
   }
  },
  {
   "cell_type": "markdown",
   "source": [
    "# **DIRIGIBILIDADE X SINALIZACAO**"
   ],
   "metadata": {
    "id": "z62XuOZuiLVR"
   }
  },
  {
   "cell_type": "code",
   "source": [
    "sns.barplot(x='DIRIGIBILIDADE', y='SINALIZACAO', palette='Set1', data=df_colunas_continuas[['DIRIGIBILIDADE', 'SINALIZACAO']])\n",
    "plt.show()"
   ],
   "metadata": {
    "colab": {
     "base_uri": "https://localhost:8080/",
     "height": 558
    },
    "executionInfo": {
     "status": "ok",
     "timestamp": 1705850634894,
     "user_tz": 180,
     "elapsed": 1422,
     "user": {
      "displayName": "Silas Falcão",
      "userId": "16882483878720005620"
     }
    },
    "outputId": "9eee263a-0af3-452c-af64-a272afb49df0",
    "id": "wBKTygOWiZfW",
    "ExecuteTime": {
     "end_time": "2024-01-22T01:07:44.873025Z",
     "start_time": "2024-01-22T01:07:44.765258Z"
    }
   },
   "execution_count": 23,
   "outputs": [
    {
     "name": "stderr",
     "output_type": "stream",
     "text": [
      "/var/folders/sr/81w53tg15q361zg6hp53cb080000gn/T/ipykernel_6125/2958371415.py:1: FutureWarning: \n",
      "\n",
      "Passing `palette` without assigning `hue` is deprecated and will be removed in v0.14.0. Assign the `x` variable to `hue` and set `legend=False` for the same effect.\n",
      "\n",
      "  sns.barplot(x='DIRIGIBILIDADE', y='SINALIZACAO', palette='Set1', data=df_colunas_continuas[['DIRIGIBILIDADE', 'SINALIZACAO']])\n",
      "/Users/silasafalcao/Library/CloudStorage/GoogleDrive-safalcao@gmail.com/Meu Drive/venv/lib/python3.12/site-packages/seaborn/_base.py:949: FutureWarning: When grouping with a length-1 list-like, you will need to pass a length-1 tuple to get_group in a future version of pandas. Pass `(name,)` instead of `name` to silence this warning.\n",
      "  data_subset = grouped_data.get_group(pd_key)\n",
      "/Users/silasafalcao/Library/CloudStorage/GoogleDrive-safalcao@gmail.com/Meu Drive/venv/lib/python3.12/site-packages/seaborn/_base.py:949: FutureWarning: When grouping with a length-1 list-like, you will need to pass a length-1 tuple to get_group in a future version of pandas. Pass `(name,)` instead of `name` to silence this warning.\n",
      "  data_subset = grouped_data.get_group(pd_key)\n",
      "/Users/silasafalcao/Library/CloudStorage/GoogleDrive-safalcao@gmail.com/Meu Drive/venv/lib/python3.12/site-packages/seaborn/_base.py:949: FutureWarning: When grouping with a length-1 list-like, you will need to pass a length-1 tuple to get_group in a future version of pandas. Pass `(name,)` instead of `name` to silence this warning.\n",
      "  data_subset = grouped_data.get_group(pd_key)\n"
     ]
    },
    {
     "data": {
      "text/plain": "<Figure size 640x480 with 1 Axes>",
      "image/png": "[encoded data removed]"
     },
     "metadata": {},
     "output_type": "display_data"
    }
   ]
  },
  {
   "cell_type": "markdown",
   "source": [],
   "metadata": {
    "id": "pgEhCLedfV5A"
   }
  },
  {
   "cell_type": "markdown",
   "source": [
    "# ** regressão multivariada é uma coleção de técnicas estatísticas que constroem modelos que descrevam de maneira razoável relações entre várias variáveis explicativas de um determinado processo. A diferença entre a regressão linear simples e a multivariada é que nesta são tratadas duas ou mais variáveis explicativas.**\n",
    "**A modelagem de equações estruturais, denominada SEM (do inglês Structural Equation Modeling), é um método de análise multivariada que combina aspectos de regressão múltipla e de análise fatorial, com o objetivo de estimar simultaneamente uma série de relações de dependência.**"
   ],
   "metadata": {
    "id": "lMxJM1hRK0Re"
   }
  },
  {
   "cell_type": "code",
   "source": [],
   "metadata": {
    "id": "YULtSvc4LGOq",
    "executionInfo": {
     "status": "ok",
     "timestamp": 1705850635347,
     "user_tz": 180,
     "elapsed": 454,
     "user": {
      "displayName": "Silas Falcão",
      "userId": "16882483878720005620"
     }
    },
    "ExecuteTime": {
     "end_time": "2024-01-22T01:07:44.877389Z",
     "start_time": "2024-01-22T01:07:44.873643Z"
    }
   },
   "execution_count": 23,
   "outputs": []
  }
 ]
}
