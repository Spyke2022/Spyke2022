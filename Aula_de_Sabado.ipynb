{
  "nbformat": 4,
  "nbformat_minor": 0,
  "metadata": {
    "colab": {
      "provenance": [],
      "authorship_tag": "ABX9TyMXe1AvROekUkJvOO8/Aamg",
      "include_colab_link": true
    },
    "kernelspec": {
      "name": "python3",
      "display_name": "Python 3"
    },
    "language_info": {
      "name": "python"
    }
  },
  "cells": [
    {
      "cell_type": "markdown",
      "metadata": {
        "id": "view-in-github",
        "colab_type": "text"
      },
      "source": [
        "<a href=\"https://colab.research.google.com/github/Spyke2022/Spyke2022/blob/main/Aula_de_Sabado.ipynb\" target=\"_parent\"><img src=\"https://colab.research.google.com/assets/colab-badge.svg\" alt=\"Open In Colab\"/></a>"
      ]
    },
    {
      "cell_type": "code",
      "source": [
        "int = 0\n",
        "while int < 10:\n",
        " int += 1\n",
        " print(int)"
      ],
      "metadata": {
        "colab": {
          "base_uri": "https://localhost:8080/"
        },
        "id": "Os4dMeT_Q3rj",
        "outputId": "48f30552-2550-42ea-dec7-89d14a1c29b2"
      },
      "execution_count": null,
      "outputs": [
        {
          "output_type": "stream",
          "name": "stdout",
          "text": [
            "1\n",
            "2\n",
            "3\n",
            "4\n",
            "5\n",
            "6\n",
            "7\n",
            "8\n",
            "9\n",
            "10\n"
          ]
        }
      ]
    },
    {
      "cell_type": "code",
      "source": [
        "nome = \" Silas Falcão \"\n",
        "for letra in nome:\n",
        "  print(letra)"
      ],
      "metadata": {
        "colab": {
          "base_uri": "https://localhost:8080/"
        },
        "id": "g2bXq5pGntMH",
        "outputId": "ac63fdb9-1178-44f0-b37c-d59475c1d8b7"
      },
      "execution_count": null,
      "outputs": [
        {
          "output_type": "stream",
          "name": "stdout",
          "text": [
            " \n",
            "S\n",
            "i\n",
            "l\n",
            "a\n",
            "s\n",
            " \n",
            "F\n",
            "a\n",
            "l\n",
            "c\n",
            "ã\n",
            "o\n",
            " \n"
          ]
        }
      ]
    },
    {
      "cell_type": "markdown",
      "source": [
        "# **List Comprehention**"
      ],
      "metadata": {
        "id": "7kwwd87JohoB"
      }
    },
    {
      "cell_type": "code",
      "source": [],
      "metadata": {
        "id": "gngFlldFvz1v"
      },
      "execution_count": null,
      "outputs": []
    },
    {
      "cell_type": "code",
      "source": [
        "# **List Comprehension**\n",
        "\n",
        "[print(letra) for letra in nome]"
      ],
      "metadata": {
        "colab": {
          "base_uri": "https://localhost:8080/"
        },
        "id": "UAraEkgWn8Ng",
        "outputId": "19999ccf-4425-4f51-f9ce-713ce0917117"
      },
      "execution_count": null,
      "outputs": [
        {
          "output_type": "stream",
          "name": "stdout",
          "text": [
            " \n",
            "S\n",
            "i\n",
            "l\n",
            "a\n",
            "s\n",
            " \n",
            "F\n",
            "a\n",
            "l\n",
            "c\n",
            "ã\n",
            "o\n",
            " \n"
          ]
        },
        {
          "output_type": "execute_result",
          "data": {
            "text/plain": [
              "[None,\n",
              " None,\n",
              " None,\n",
              " None,\n",
              " None,\n",
              " None,\n",
              " None,\n",
              " None,\n",
              " None,\n",
              " None,\n",
              " None,\n",
              " None,\n",
              " None,\n",
              " None]"
            ]
          },
          "metadata": {},
          "execution_count": 28
        }
      ]
    },
    {
      "cell_type": "code",
      "source": [
        "frases = [\"As palavras Dessa Frase Têm A primeira Letra Maíscula\", \"ESSA FRASE ESTÁ TODA EM LETRTA MAIÚSCULA\", \"EsSa FrAsE esTÁ UMa BaGUnÇa\"]\n",
        "print(frases)"
      ],
      "metadata": {
        "colab": {
          "base_uri": "https://localhost:8080/"
        },
        "id": "lUU_G3CAv_GN",
        "outputId": "4b8939b4-fd5d-4e22-e3dc-955c8eb345ae"
      },
      "execution_count": null,
      "outputs": [
        {
          "output_type": "stream",
          "name": "stdout",
          "text": [
            "['As palavras Dessa Frase Têm A primeira Letra Maíscula', 'ESSA FRASE ESTÁ TODA EM LETRTA MAIÚSCULA', 'EsSa FrAsE esTÁ UMa BaGUnÇa']\n"
          ]
        }
      ]
    },
    {
      "cell_type": "code",
      "source": [
        "for frase in frases:\n",
        "  print(frases)"
      ],
      "metadata": {
        "colab": {
          "base_uri": "https://localhost:8080/"
        },
        "id": "wNZrfyf8yCMH",
        "outputId": "ba2a4016-8ffd-4ff9-fce9-e4e2f9bf2136"
      },
      "execution_count": null,
      "outputs": [
        {
          "output_type": "stream",
          "name": "stdout",
          "text": [
            "['As palavras Dessa Frase Têm A primeira Letra Maíscula', 'ESSA FRASE ESTÁ TODA EM LETRTA MAIÚSCULA', 'EsSa FrAsE esTÁ UMa BaGUnÇa']\n",
            "['As palavras Dessa Frase Têm A primeira Letra Maíscula', 'ESSA FRASE ESTÁ TODA EM LETRTA MAIÚSCULA', 'EsSa FrAsE esTÁ UMa BaGUnÇa']\n",
            "['As palavras Dessa Frase Têm A primeira Letra Maíscula', 'ESSA FRASE ESTÁ TODA EM LETRTA MAIÚSCULA', 'EsSa FrAsE esTÁ UMa BaGUnÇa']\n"
          ]
        }
      ]
    },
    {
      "cell_type": "code",
      "source": [
        "for frase in frases:\n",
        "  print(frase.lower())"
      ],
      "metadata": {
        "colab": {
          "base_uri": "https://localhost:8080/"
        },
        "id": "P9jToWSjy9j0",
        "outputId": "7ca6379d-b544-4e8b-c3dd-fd8fc5afeff2"
      },
      "execution_count": null,
      "outputs": [
        {
          "output_type": "stream",
          "name": "stdout",
          "text": [
            "as palavras dessa frase têm a primeira letra maíscula\n",
            "essa frase está toda em letrta maiúscula\n",
            "essa frase está uma bagunça\n"
          ]
        }
      ]
    },
    {
      "cell_type": "code",
      "source": [],
      "metadata": {
        "id": "rpS0R0Gu5ILU"
      },
      "execution_count": null,
      "outputs": []
    },
    {
      "cell_type": "markdown",
      "source": [
        "# **Avaliador de Temperatura**\n",
        "   *Este é o Avaliador de Temperatura*\n",
        "   "
      ],
      "metadata": {
        "id": "2RpEBHM15YCF"
      }
    },
    {
      "cell_type": "markdown",
      "source": [],
      "metadata": {
        "id": "KKK-E_pv5Hx9"
      }
    },
    {
      "cell_type": "code",
      "source": [
        "temperatura = int(input(\"Digite uma temperatura:  \"))\n",
        "if temperatura < 0:\n",
        "  print(\"Está muito frio, procure um abrigo!\")\n",
        "elif temperatura > 30:\n",
        "  print(\"Está muito quente, procure um ar condicionado \")\n",
        "else:\n",
        "  print(\"Não está tão frio\")\n",
        "print(\"Obrigado por usar o avaliador de temperatura!\")\n"
      ],
      "metadata": {
        "colab": {
          "base_uri": "https://localhost:8080/"
        },
        "id": "QtJ2NfQd5di3",
        "outputId": "ca0fba9f-e267-4454-e2d6-abae258a96e1"
      },
      "execution_count": null,
      "outputs": [
        {
          "output_type": "stream",
          "name": "stdout",
          "text": [
            "Digite uma temperatura:  47\n",
            "Está muito quente, procure um ar condicionado \n",
            "Obrigado por usar o avaliador de temperatura!\n"
          ]
        }
      ]
    },
    {
      "cell_type": "code",
      "source": [
        "15\n"
      ],
      "metadata": {
        "id": "z_PMIEUx6Tun"
      },
      "execution_count": null,
      "outputs": []
    },
    {
      "cell_type": "code",
      "source": [
        "idade = int(input(\"Digite a sua idade:  \"))\n",
        "if idade < 12:\n",
        "  print(\"Criança\")\n",
        "elif idade  < 18:\n",
        "  print(\"Adolescente\")\n",
        "elif idade < 60:\n",
        "  print(\"Adulto\")\n",
        "else:\n",
        "  print(\"Idoso\")\n",
        "\n",
        "\n",
        "\n"
      ],
      "metadata": {
        "colab": {
          "base_uri": "https://localhost:8080/"
        },
        "id": "PfJIVDCG7leO",
        "outputId": "11b73375-5cf4-4ca1-c3e2-0b506f9b65b9"
      },
      "execution_count": null,
      "outputs": [
        {
          "output_type": "stream",
          "name": "stdout",
          "text": [
            "Digite a sua idade:  14\n",
            "Adolescente\n"
          ]
        }
      ]
    },
    {
      "cell_type": "markdown",
      "source": [
        "#**Exercício 2**\n"
      ],
      "metadata": {
        "id": "KteH0sgoarUq"
      }
    },
    {
      "cell_type": "code",
      "source": [
        "value = input(\"Digite um número entre 0 e 10:\")\n",
        "while not value.isdigit():\n",
        "  value = input(\"Digite um número entre 0 e 10: \")\n",
        "if value.isdigit():\n",
        "   value = int(value)\n",
        "   while(value <0. or value > 10):\n",
        "      print (\"Seu número é, value\")"
      ],
      "metadata": {
        "colab": {
          "base_uri": "https://localhost:8080/"
        },
        "id": "J0OFqR0Eaw2y",
        "outputId": "84586e08-830e-4fda-f983-50499f150b3d"
      },
      "execution_count": 7,
      "outputs": [
        {
          "name": "stdout",
          "output_type": "stream",
          "text": [
            "Digite um número entre 0 e 10:2\n"
          ]
        }
      ]
    },
    {
      "cell_type": "code",
      "source": [],
      "metadata": {
        "id": "tufQMg88db9k"
      },
      "execution_count": null,
      "outputs": []
    },
    {
      "cell_type": "markdown",
      "source": [
        "# **Advinhar um Número**\n"
      ],
      "metadata": {
        "id": "v5hrj-WBdc7a"
      }
    },
    {
      "cell_type": "code",
      "source": [
        "import random\n",
        "\n",
        "numero_aleatorio = random.randint(1,9)\n",
        "numero_chutado = 0\n",
        "while numero_chutado != numero_aleatorio:\n",
        "  numero_chutado = int(input(\"Digite um numero entre 1 e 9:  \" ))\n",
        "  if numero_aleatorio == numero_chutado:\n",
        "    print(\"Acertou\")\n",
        "  else:\n",
        "    print(\"Errou, o numero era:   \",numero_aleatorio)"
      ],
      "metadata": {
        "colab": {
          "base_uri": "https://localhost:8080/"
        },
        "id": "wzFF3oAgdkAo",
        "outputId": "6e72e4f3-a658-46f0-de5e-80cc730106b7"
      },
      "execution_count": null,
      "outputs": [
        {
          "output_type": "stream",
          "name": "stdout",
          "text": [
            "Digite um numero entre 1 e 9:  3\n",
            "Errou, o numero era:    1\n",
            "Digite um numero entre 1 e 9:  5\n",
            "Errou, o numero era:    1\n",
            "Digite um numero entre 1 e 9:  9\n",
            "Errou, o numero era:    1\n",
            "Digite um numero entre 1 e 9:  1\n",
            "Acertou\n"
          ]
        }
      ]
    },
    {
      "cell_type": "markdown",
      "source": [
        "# **Containers**\n"
      ],
      "metadata": {
        "id": "3OYA2TQmptcq"
      }
    },
    {
      "cell_type": "markdown",
      "source": [
        "# ** Listas**"
      ],
      "metadata": {
        "id": "FDJjh89kpzja"
      }
    },
    {
      "cell_type": "code",
      "source": [
        "alunos_aula_hoje = [\"Rafael Goulart\", \"Pedro Henrique\", \"Alan Silva\" , \"Erica Santos\", \"Carlos Silva\", \"Marcia Sales\"]\n",
        "print(alunos_aula_hoje)\n"
      ],
      "metadata": {
        "colab": {
          "base_uri": "https://localhost:8080/"
        },
        "id": "Fh-buMtkp36Y",
        "outputId": "507bb4d0-6a57-401c-f6dc-d4148e81d930"
      },
      "execution_count": null,
      "outputs": [
        {
          "output_type": "stream",
          "name": "stdout",
          "text": [
            "['Rafael Goulart', 'Pedro Henrique', 'Alan Silva', 'Erica Santos', 'Carlos Silva', 'Marcia Sales']\n"
          ]
        }
      ]
    },
    {
      "cell_type": "code",
      "source": [
        "alunos_aula_hoje.sort()\n",
        "print(alunos_aula_hoje)\n"
      ],
      "metadata": {
        "colab": {
          "base_uri": "https://localhost:8080/"
        },
        "id": "k9WEZ0HsptFm",
        "outputId": "80cf7be9-e211-48a8-a4c1-e7e301b5a65a"
      },
      "execution_count": null,
      "outputs": [
        {
          "output_type": "stream",
          "name": "stdout",
          "text": [
            "['Alan Silva', 'Carlos Silva', 'Erica Santos', 'Marcia Sales', 'Pedro Henrique', 'Rafael Goulart']\n"
          ]
        }
      ]
    },
    {
      "cell_type": "code",
      "source": [],
      "metadata": {
        "id": "wsMPEMeyqysj"
      },
      "execution_count": null,
      "outputs": []
    },
    {
      "cell_type": "markdown",
      "source": [
        " **Lista de Compras**"
      ],
      "metadata": {
        "id": "kaft9Q5Gq8Tq"
      }
    },
    {
      "cell_type": "code",
      "source": [
        "lista_compras= [\"Arroz\", \"Feijão\",\"Refrigerante\", \"Frutas\", \"Sabão\"]\n",
        "print(lista_compras)\n",
        "\n",
        "lista_compras.sort()\n",
        "print(lista_compras)\n",
        "\n",
        "print(lista_compras.index(\"Feijão\"))\n",
        "\n",
        "\n",
        "\n",
        "\n"
      ],
      "metadata": {
        "colab": {
          "base_uri": "https://localhost:8080/"
        },
        "id": "RRf_e7dgrA-M",
        "outputId": "f5a79d48-103e-456c-a33e-354251f73f55"
      },
      "execution_count": null,
      "outputs": [
        {
          "output_type": "stream",
          "name": "stdout",
          "text": [
            "['Arroz', 'Feijão', 'Refrigerante', 'Frutas', 'Sabão']\n",
            "['Arroz', 'Feijão', 'Frutas', 'Refrigerante', 'Sabão']\n",
            "1\n"
          ]
        }
      ]
    },
    {
      "cell_type": "code",
      "source": [],
      "metadata": {
        "id": "RnrKAvuMtGh7"
      },
      "execution_count": null,
      "outputs": []
    },
    {
      "cell_type": "markdown",
      "source": [],
      "metadata": {
        "id": "rJVjPl3w3ZVc"
      }
    },
    {
      "cell_type": "markdown",
      "source": [
        "# ** Criar Lista de Números**\n",
        "  *Exercício*"
      ],
      "metadata": {
        "id": "vIv17fcYvmLY"
      }
    },
    {
      "cell_type": "code",
      "source": [
        "numeros = []\n",
        "while True:\n",
        "  numero = input(\"Digite um número(ou 's'para parar):  \")\n",
        "\n",
        "  if numero == \"s\":\n",
        "    break\n",
        "\n",
        "  else:\n",
        "      numeros.append(int(numero))\n",
        "\n",
        "print(\"Quantidade de números digitados:   \", len(numeros))\n",
        "\n",
        "numeros.sort(reverse=True)\n",
        "print(\"Números em ordem decrescente:  \", numeros)\n",
        "\n",
        "mensagem = (\"O número 5 está presente na lista.\" if 5 in numeros else \"O números 5 não está presente na lista.\")"
      ],
      "metadata": {
        "colab": {
          "base_uri": "https://localhost:8080/"
        },
        "id": "XjNk1pqCzwBC",
        "outputId": "9b3ae567-d587-425c-b1bc-6e755f65b387"
      },
      "execution_count": null,
      "outputs": [
        {
          "output_type": "stream",
          "name": "stdout",
          "text": [
            "Digite um número(ou 's'para parar):  3\n",
            "Digite um número(ou 's'para parar):  1\n",
            "Digite um número(ou 's'para parar):  5\n",
            "Digite um número(ou 's'para parar):  7\n",
            "Digite um número(ou 's'para parar):  9\n",
            "Digite um número(ou 's'para parar):  s\n",
            "Quantidade de números digitados:    5\n",
            "Números em ordem decrescente:   [9, 7, 5, 3, 1]\n"
          ]
        }
      ]
    }
  ]
}