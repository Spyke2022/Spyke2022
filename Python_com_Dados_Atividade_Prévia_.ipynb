{
  "nbformat": 4,
  "nbformat_minor": 0,
  "metadata": {
    "colab": {
      "provenance": [],
      "authorship_tag": "ABX9TyNb5jpfj94IZW9oxc06AOBH",
      "include_colab_link": true
    },
    "kernelspec": {
      "name": "python3",
      "display_name": "Python 3"
    },
    "language_info": {
      "name": "python"
    }
  },
  "cells": [
    {
      "cell_type": "markdown",
      "metadata": {
        "id": "view-in-github",
        "colab_type": "text"
      },
      "source": [
        "<a href=\"https://colab.research.google.com/github/Spyke2022/Spyke2022/blob/main/Python_com_Dados_Atividade_Pr%C3%A9via_.ipynb\" target=\"_parent\"><img src=\"https://colab.research.google.com/assets/colab-badge.svg\" alt=\"Open In Colab\"/></a>"
      ]
    },
    {
      "cell_type": "code",
      "execution_count": null,
      "metadata": {
        "id": "1gMHoWHth6uN"
      },
      "outputs": [],
      "source": []
    },
    {
      "cell_type": "markdown",
      "source": [
        "## ***Atividade Prévia***\n",
        "\n",
        "*Aluno: Silas de Albuquerque Falcão*\n",
        "\n",
        "*Dados:*\n",
        "\n",
        "\n",
        " *temperature =[[30],[12],[14],[18],[25],[5],[15],[27]]*\n",
        "\n",
        "*coat = [False, True, True, True, False, True, True, False]*\n",
        "\n"
      ],
      "metadata": {
        "id": "3kQSqPpAiVc1"
      }
    },
    {
      "cell_type": "markdown",
      "source": [],
      "metadata": {
        "id": "CC23Cibnj7hQ"
      }
    },
    {
      "cell_type": "code",
      "source": [
        "temperatura = [[30], [12], [14], [18], [25],  [5],  [15], [27]] #celsius\n",
        "vesti_casaco = [False, True, True, True, False, True, True, False]\n",
        "from sklearn.linear_model import LogisticRegression\n",
        "\n",
        "classificador = LogisticRegression()\n",
        "classificador.fit(temperatura,vesti_casaco);\n",
        "nova_temperatura = int((nova_temperatura_informada))\n",
        "\n",
        "novas_temperaturas = [[45],[-3],[17],[28],[31]]\n",
        "\n",
        "classificador.predict(novas_temperaturas)\n",
        "\n",
        "\n",
        "\n"
      ],
      "metadata": {
        "colab": {
          "base_uri": "https://localhost:8080/"
        },
        "id": "4bMugKMVGYFD",
        "outputId": "b549901a-40a5-49e8-ce34-be224680933a"
      },
      "execution_count": 12,
      "outputs": [
        {
          "output_type": "execute_result",
          "data": {
            "text/plain": [
              "array([False,  True,  True, False, False])"
            ]
          },
          "metadata": {},
          "execution_count": 12
        }
      ]
    }
  ]
}